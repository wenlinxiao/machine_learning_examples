{
 "cells": [
  {
   "cell_type": "code",
   "execution_count": 1,
   "id": "741e2d06",
   "metadata": {
    "_cell_guid": "b1076dfc-b9ad-4769-8c92-a6c4dae69d19",
    "_uuid": "8f2839f25d086af736a60e9eeb907d3b93b6e0e5",
    "execution": {
     "iopub.execute_input": "2022-04-26T21:06:17.322786Z",
     "iopub.status.busy": "2022-04-26T21:06:17.322009Z",
     "iopub.status.idle": "2022-04-26T21:06:17.325293Z",
     "shell.execute_reply": "2022-04-26T21:06:17.324699Z",
     "shell.execute_reply.started": "2022-04-26T16:33:35.841483Z"
    },
    "papermill": {
     "duration": 0.023019,
     "end_time": "2022-04-26T21:06:17.325454",
     "exception": false,
     "start_time": "2022-04-26T21:06:17.302435",
     "status": "completed"
    },
    "tags": []
   },
   "outputs": [],
   "source": [
    "import numpy as np\n",
    "import pandas as pd"
   ]
  },
  {
   "cell_type": "markdown",
   "id": "92533c27",
   "metadata": {
    "papermill": {
     "duration": 0.007062,
     "end_time": "2022-04-26T21:06:17.340678",
     "exception": false,
     "start_time": "2022-04-26T21:06:17.333616",
     "status": "completed"
    },
    "tags": []
   },
   "source": [
    "### Reading data"
   ]
  },
  {
   "cell_type": "code",
   "execution_count": 2,
   "id": "f7570639",
   "metadata": {
    "execution": {
     "iopub.execute_input": "2022-04-26T21:06:17.361302Z",
     "iopub.status.busy": "2022-04-26T21:06:17.360488Z",
     "iopub.status.idle": "2022-04-26T21:06:17.518547Z",
     "shell.execute_reply": "2022-04-26T21:06:17.517955Z",
     "shell.execute_reply.started": "2022-04-26T16:33:35.923156Z"
    },
    "papermill": {
     "duration": 0.170773,
     "end_time": "2022-04-26T21:06:17.518688",
     "exception": false,
     "start_time": "2022-04-26T21:06:17.347915",
     "status": "completed"
    },
    "tags": []
   },
   "outputs": [],
   "source": [
    "train = pd.read_csv(\"/kaggle/input/house-prices-advanced-regression-techniques/train.csv\",index_col=\"Id\")\n",
    "\n",
    "# drop rows with missing targets in train data\n",
    "n = np.sum(pd.isnull(train[\"SalePrice\"]))\n",
    "if n!=0:\n",
    "    train.dropna(axis=0, subset=[\"SalePrice\"], inplace=True)\n",
    "    print(\"%d rows with missing targets are dropped.\" % n)\n",
    "\n",
    "X_train_val_org = train.drop(columns=\"SalePrice\")\n",
    "y_train_val = train[\"SalePrice\"]\n",
    "X_test_org = pd.read_csv(\"/kaggle/input/house-prices-advanced-regression-techniques/test.csv\",index_col=\"Id\")"
   ]
  },
  {
   "cell_type": "markdown",
   "id": "be7fec73",
   "metadata": {
    "papermill": {
     "duration": 0.006985,
     "end_time": "2022-04-26T21:06:17.533175",
     "exception": false,
     "start_time": "2022-04-26T21:06:17.526190",
     "status": "completed"
    },
    "tags": []
   },
   "source": [
    "### Exploring data for preprocessing:\n",
    "missing values, catagrical columns"
   ]
  },
  {
   "cell_type": "code",
   "execution_count": 3,
   "id": "1933ec12",
   "metadata": {
    "execution": {
     "iopub.execute_input": "2022-04-26T21:06:17.561689Z",
     "iopub.status.busy": "2022-04-26T21:06:17.560997Z",
     "iopub.status.idle": "2022-04-26T21:06:17.632638Z",
     "shell.execute_reply": "2022-04-26T21:06:17.634055Z",
     "shell.execute_reply.started": "2022-04-26T16:33:36.164341Z"
    },
    "papermill": {
     "duration": 0.093712,
     "end_time": "2022-04-26T21:06:17.634354",
     "exception": false,
     "start_time": "2022-04-26T21:06:17.540642",
     "status": "completed"
    },
    "tags": []
   },
   "outputs": [
    {
     "name": "stdout",
     "output_type": "stream",
     "text": [
      "Column PoolQC: >70% missing values, dropped\n"
     ]
    }
   ],
   "source": [
    "X_train_val = X_train_val_org.copy()\n",
    "X_test = X_test_org.copy()\n",
    "\n",
    "# change fake missing values\n",
    "#   alley\n",
    "X_train_val.replace({\"Alley\":{np.nan:\"wo\"}},inplace=True)\n",
    "X_test.replace({\"Alley\":{np.nan:\"wo\"}},inplace=True)\n",
    "#   basement\n",
    "bsmt_cols = [\"BsmtQual\",\"BsmtCond\",\"BsmtExposure\",\"BsmtFinType1\",\"BsmtFinType2\"]\n",
    "X_train_val.loc[X_train_val[\"TotalBsmtSF\"]==0,bsmt_cols] = \"wo\"\n",
    "X_test.loc[X_test[\"TotalBsmtSF\"]==0,bsmt_cols] = \"wo\"\n",
    "#   fireplace\n",
    "X_train_val.replace({\"FireplaceQu\":{np.nan:\"wo\"}},inplace=True)\n",
    "X_test.replace({\"FireplaceQu\":{np.nan:\"wo\"}},inplace=True)\n",
    "#   garage\n",
    "grg_cols=[\"GarageType\",\"GarageFinish\",\"GarageQual\",\"GarageCond\"]\n",
    "X_train_val.loc[X_train_val[\"GarageArea\"]==0,grg_cols] = \"wo\"\n",
    "X_test.loc[X_test[\"GarageArea\"]==0,grg_cols] = \"wo\"\n",
    "#   fence\n",
    "X_train_val.replace({\"Fence\":{np.nan:\"wo\"}},inplace=True)\n",
    "X_test.replace({\"Fence\":{np.nan:\"wo\"}},inplace=True)\n",
    "#   MiscFeature\n",
    "X_train_val.replace({\"MiscFeature\":{np.nan:\"wo\"}},inplace=True)\n",
    "X_test.replace({\"MiscFeature\":{np.nan:\"wo\"}},inplace=True)\n",
    "\n",
    "# drop columns with too little information\n",
    "n_row = np.shape(X_train_val)[0]\n",
    "for col in X_train_val.columns:\n",
    "    if np.sum(pd.isnull(X_train_val[col])) > n_row*0.7:\n",
    "        X_train_val.drop(col, axis=1, inplace=True)\n",
    "        X_test.drop(col, axis=1, inplace=True)\n",
    "        print(\"Column \"+col+\": >70% missing values, dropped\")\n",
    "        \n",
    "# change the non-ordinal numerical columns into string categories\n",
    "cols_num2str = [\"MSSubClass\",\"MoSold\"]\n",
    "X_train_val[cols_num2str] = X_train_val[cols_num2str].apply(str)\n",
    "X_test[cols_num2str] = X_test[cols_num2str].apply(str)\n",
    "\n",
    "# numerical columns, categorical columns\n",
    "cols_num = X_train_val.columns[X_train_val.dtypes!=\"object\"]\n",
    "cols_cat = X_train_val.columns[X_train_val.dtypes==\"object\"]\n",
    "\n",
    "# ordinal categorical columns\n",
    "cols_cat_ord = [\"ExterQual\",\"ExterCond\",\"BsmtQual\",\"BsmtCond\",\n",
    "                \"BsmtExposure\",\"BsmtFinType1\",\"BsmtFinType2\",\n",
    "                \"HeatingQC\",\"CentralAir\",\"KitchenQual\",\n",
    "                \"FireplaceQu\",\"GarageFinish\",\"GarageCond\",\"Fence\"]\n",
    "ords1 = [\"Po\",\"Fa\",\"TA\",\"Gd\",\"Ex\"]\n",
    "ords2 = [\"wo\",\"Po\",\"Fa\",\"TA\",\"Gd\",\"Ex\"]\n",
    "ords3 = [\"wo\",\"No\",\"Mn\",\"Av\",\"Gd\"]\n",
    "ords4 = [\"wo\",\"Unf\",\"LwQ\",\"Rec\",\"BLQ\",\"ALQ\",\"GLQ\"]\n",
    "ords5 = [\"wo\",\"Unf\",\"RFn\",\"Fin\"]\n",
    "ords6 = [\"wo\",\"MnWw\",\"GdWo\",\"MnPrv\",\"GdPrv\"]        \n",
    "ords = [ords1,ords1,ords2,ords2,\n",
    "        ords3,ords4,ords4,\n",
    "        ords1,[\"N\",\"Y\"],ords1,\n",
    "        ords2,ords5,ords2,ords6]\n",
    "\n",
    "# non-ordinal categorical columns\n",
    "cols_cat_oh = list(set(cols_cat)-set(cols_cat_ord))"
   ]
  },
  {
   "cell_type": "markdown",
   "id": "050d88d8",
   "metadata": {
    "papermill": {
     "duration": 0.008182,
     "end_time": "2022-04-26T21:06:17.651989",
     "exception": false,
     "start_time": "2022-04-26T21:06:17.643807",
     "status": "completed"
    },
    "tags": []
   },
   "source": [
    "### Model 1: RandomForestRegressor"
   ]
  },
  {
   "cell_type": "code",
   "execution_count": 4,
   "id": "b94a4540",
   "metadata": {
    "execution": {
     "iopub.execute_input": "2022-04-26T21:06:17.675822Z",
     "iopub.status.busy": "2022-04-26T21:06:17.675166Z",
     "iopub.status.idle": "2022-04-26T21:07:52.360961Z",
     "shell.execute_reply": "2022-04-26T21:07:52.361499Z",
     "shell.execute_reply.started": "2022-04-26T17:58:42.708105Z"
    },
    "papermill": {
     "duration": 94.701987,
     "end_time": "2022-04-26T21:07:52.361684",
     "exception": false,
     "start_time": "2022-04-26T21:06:17.659697",
     "status": "completed"
    },
    "tags": []
   },
   "outputs": [
    {
     "name": "stdout",
     "output_type": "stream",
     "text": [
      "Best parameter for RandomForestRegressor: {'model_rf__n_estimators': 1000}\n"
     ]
    }
   ],
   "source": [
    "from sklearn.model_selection import train_test_split, GridSearchCV\n",
    "from sklearn.pipeline import Pipeline\n",
    "from sklearn.impute import SimpleImputer\n",
    "from sklearn.preprocessing import StandardScaler, OrdinalEncoder, OneHotEncoder\n",
    "from sklearn.ensemble import RandomForestRegressor\n",
    "from sklearn.metrics import mean_squared_error as mse\n",
    "from sklearn.compose import ColumnTransformer\n",
    "\n",
    "# split X_train_val into a train set and a validation set\n",
    "X_train, X_val, y_train, y_val = train_test_split(X_train_val, y_train_val,\n",
    "                                                 test_size=0.3)\n",
    "\n",
    "# process columns with imputers\n",
    "num_transformer = Pipeline(steps=[\n",
    "    ('imputer', SimpleImputer(strategy='mean')),\n",
    "    ('scaler', StandardScaler())])\n",
    "cat_ord_transformer = Pipeline(steps=[\n",
    "    ('imputer', SimpleImputer(strategy='most_frequent')),\n",
    "    ('ord', OrdinalEncoder(categories=ords))])\n",
    "cat_oh_transformer = Pipeline(steps=[\n",
    "    ('imputer', SimpleImputer(strategy='most_frequent')),\n",
    "    ('onehot', OneHotEncoder(handle_unknown='ignore'))])\n",
    "preprocessor = ColumnTransformer(\n",
    "    transformers=[\n",
    "        ('num', num_transformer, cols_num),\n",
    "        ('cat_ord', cat_ord_transformer, cols_cat_ord),\n",
    "        ('cat_oh', cat_oh_transformer, cols_cat_oh)])\n",
    "\n",
    "# model 1: RandomForestRegressor\n",
    "rf = RandomForestRegressor()\n",
    "\n",
    "# building pipeline\n",
    "pipeline_rf = Pipeline(steps=[(\"preprocessor\", preprocessor),\n",
    "                           (\"model_rf\", rf)])\n",
    "\n",
    "# tuning parameters\n",
    "param_grid = {\"model_rf__n_estimators\": [100,200,500,1000]}\n",
    "grid_cv_rf = GridSearchCV(pipeline_rf, param_grid, cv=5, n_jobs=4)\n",
    "grid_cv_rf.fit(X_train, y_train)\n",
    "print(\"Best parameter for RandomForestRegressor:\", grid_cv_rf.best_params_)"
   ]
  },
  {
   "cell_type": "markdown",
   "id": "fe391f4d",
   "metadata": {
    "papermill": {
     "duration": 0.007893,
     "end_time": "2022-04-26T21:07:52.377652",
     "exception": false,
     "start_time": "2022-04-26T21:07:52.369759",
     "status": "completed"
    },
    "tags": []
   },
   "source": [
    "### Model 2: XGBoost"
   ]
  },
  {
   "cell_type": "code",
   "execution_count": 5,
   "id": "5f43f935",
   "metadata": {
    "execution": {
     "iopub.execute_input": "2022-04-26T21:07:52.400415Z",
     "iopub.status.busy": "2022-04-26T21:07:52.399748Z",
     "iopub.status.idle": "2022-04-26T21:40:46.566178Z",
     "shell.execute_reply": "2022-04-26T21:40:46.566640Z",
     "shell.execute_reply.started": "2022-04-26T20:02:22.946211Z"
    },
    "papermill": {
     "duration": 1974.181175,
     "end_time": "2022-04-26T21:40:46.566819",
     "exception": false,
     "start_time": "2022-04-26T21:07:52.385644",
     "status": "completed"
    },
    "tags": []
   },
   "outputs": [
    {
     "name": "stdout",
     "output_type": "stream",
     "text": [
      "Best parameter for XGBoost: {'model_xgb__learning_rate': 0.1, 'model_xgb__n_estimators': 200}\n"
     ]
    }
   ],
   "source": [
    "from xgboost import XGBRegressor\n",
    "\n",
    "xgb = XGBRegressor()\n",
    "\n",
    "# building pipeline\n",
    "pipeline_xgb = Pipeline(steps=[(\"preprocessor\", preprocessor),\n",
    "                               (\"model_xgb\", xgb)])\n",
    "\n",
    "# tuning parameters\n",
    "param_grid = {\"model_xgb__n_estimators\": [100,200,500],\n",
    "             \"model_xgb__learning_rate\": [0.1, 0.5]}\n",
    "grid_cv_xgb = GridSearchCV(pipeline_xgb, param_grid, cv=5, n_jobs=4)\n",
    "grid_cv_xgb.fit(X_train, y_train)\n",
    "print(\"Best parameter for XGBoost:\", grid_cv_xgb.best_params_)"
   ]
  },
  {
   "cell_type": "markdown",
   "id": "25f01c8e",
   "metadata": {
    "papermill": {
     "duration": 0.008271,
     "end_time": "2022-04-26T21:40:46.583695",
     "exception": false,
     "start_time": "2022-04-26T21:40:46.575424",
     "status": "completed"
    },
    "tags": []
   },
   "source": [
    "### compare two models' performance with X_val, y_val"
   ]
  },
  {
   "cell_type": "code",
   "execution_count": 6,
   "id": "dbbb56d5",
   "metadata": {
    "execution": {
     "iopub.execute_input": "2022-04-26T21:40:46.604080Z",
     "iopub.status.busy": "2022-04-26T21:40:46.603155Z",
     "iopub.status.idle": "2022-04-26T21:40:46.796152Z",
     "shell.execute_reply": "2022-04-26T21:40:46.796592Z",
     "shell.execute_reply.started": "2022-04-26T20:33:28.766330Z"
    },
    "papermill": {
     "duration": 0.204679,
     "end_time": "2022-04-26T21:40:46.796765",
     "exception": false,
     "start_time": "2022-04-26T21:40:46.592086",
     "status": "completed"
    },
    "tags": []
   },
   "outputs": [
    {
     "name": "stdout",
     "output_type": "stream",
     "text": [
      "The XGB regressor (mse=1163772405.8828) performs better than the random forest model (mse=1356902082.2437).\n"
     ]
    }
   ],
   "source": [
    "from sklearn.metrics import mean_squared_error as mse\n",
    "\n",
    "# prediction of model1\n",
    "y_pred1 = grid_cv_rf.predict(X_val)\n",
    "score1 = mse(y_val, y_pred1)\n",
    "\n",
    "# prediction of model2\n",
    "y_pred2 = grid_cv_xgb.predict(X_val)\n",
    "score2 = mse(y_val, y_pred2)\n",
    "\n",
    "# compare scores\n",
    "if score1<score2:\n",
    "    print(\"The random forest model (mse=%.4f) performs better than the XGB regressor (mse=%.4f).\" %(score1,score2))\n",
    "else:\n",
    "    print(\"The XGB regressor (mse=%.4f) performs better than the random forest model (mse=%.4f).\" %(score2,score1))"
   ]
  },
  {
   "cell_type": "code",
   "execution_count": 7,
   "id": "d5c271f9",
   "metadata": {
    "execution": {
     "iopub.execute_input": "2022-04-26T21:40:46.817739Z",
     "iopub.status.busy": "2022-04-26T21:40:46.816750Z",
     "iopub.status.idle": "2022-04-26T21:40:47.174641Z",
     "shell.execute_reply": "2022-04-26T21:40:47.174122Z",
     "shell.execute_reply.started": "2022-04-26T20:33:29.020174Z"
    },
    "papermill": {
     "duration": 0.369486,
     "end_time": "2022-04-26T21:40:47.174789",
     "exception": false,
     "start_time": "2022-04-26T21:40:46.805303",
     "status": "completed"
    },
    "tags": []
   },
   "outputs": [],
   "source": [
    "y_pred = grid_cv_rf.predict(X_test)\n",
    "otp_fn = \"/kaggle/working/submission.csv\"\n",
    "df = pd.DataFrame(y_pred,index=X_test.index,columns=[\"SalePrice\"])\n",
    "df.to_csv(otp_fn,header=[\"SalePrice\"])"
   ]
  }
 ],
 "metadata": {
  "kernelspec": {
   "display_name": "Python 3",
   "language": "python",
   "name": "python3"
  },
  "language_info": {
   "codemirror_mode": {
    "name": "ipython",
    "version": 3
   },
   "file_extension": ".py",
   "mimetype": "text/x-python",
   "name": "python",
   "nbconvert_exporter": "python",
   "pygments_lexer": "ipython3",
   "version": "3.7.10"
  },
  "papermill": {
   "default_parameters": {},
   "duration": 2078.312968,
   "end_time": "2022-04-26T21:40:48.501287",
   "environment_variables": {},
   "exception": null,
   "input_path": "__notebook__.ipynb",
   "output_path": "__notebook__.ipynb",
   "parameters": {},
   "start_time": "2022-04-26T21:06:10.188319",
   "version": "2.3.3"
  }
 },
 "nbformat": 4,
 "nbformat_minor": 5
}
