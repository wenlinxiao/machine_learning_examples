{
 "cells": [
  {
   "cell_type": "code",
   "execution_count": 1,
   "id": "2ad2bac3",
   "metadata": {
    "_cell_guid": "b1076dfc-b9ad-4769-8c92-a6c4dae69d19",
    "_uuid": "8f2839f25d086af736a60e9eeb907d3b93b6e0e5",
    "execution": {
     "iopub.execute_input": "2022-04-25T12:55:32.981329Z",
     "iopub.status.busy": "2022-04-25T12:55:32.980355Z",
     "iopub.status.idle": "2022-04-25T12:55:32.983936Z",
     "shell.execute_reply": "2022-04-25T12:55:32.983174Z",
     "shell.execute_reply.started": "2022-04-24T16:33:20.256583Z"
    },
    "papermill": {
     "duration": 0.028945,
     "end_time": "2022-04-25T12:55:32.984118",
     "exception": false,
     "start_time": "2022-04-25T12:55:32.955173",
     "status": "completed"
    },
    "tags": []
   },
   "outputs": [],
   "source": [
    "import numpy as np\n",
    "import pandas as pd"
   ]
  },
  {
   "cell_type": "markdown",
   "id": "5ebe025c",
   "metadata": {
    "papermill": {
     "duration": 0.009871,
     "end_time": "2022-04-25T12:55:33.006801",
     "exception": false,
     "start_time": "2022-04-25T12:55:32.996930",
     "status": "completed"
    },
    "tags": []
   },
   "source": [
    "### Reading data"
   ]
  },
  {
   "cell_type": "code",
   "execution_count": 2,
   "id": "e708aa38",
   "metadata": {
    "execution": {
     "iopub.execute_input": "2022-04-25T12:55:33.034826Z",
     "iopub.status.busy": "2022-04-25T12:55:33.034085Z",
     "iopub.status.idle": "2022-04-25T12:55:33.250258Z",
     "shell.execute_reply": "2022-04-25T12:55:33.250860Z",
     "shell.execute_reply.started": "2022-04-24T16:33:21.458123Z"
    },
    "papermill": {
     "duration": 0.233726,
     "end_time": "2022-04-25T12:55:33.251081",
     "exception": false,
     "start_time": "2022-04-25T12:55:33.017355",
     "status": "completed"
    },
    "tags": []
   },
   "outputs": [],
   "source": [
    "train = pd.read_csv(\"/kaggle/input/house-prices-advanced-regression-techniques/train.csv\",index_col=\"Id\")\n",
    "\n",
    "# drop rows with missing targets in train data\n",
    "n = np.sum(pd.isnull(train[\"SalePrice\"]))\n",
    "if n!=0:\n",
    "    train.dropna(axis=0, subset=[\"SalePrice\"], inplace=True)\n",
    "    print(\"%d rows with missing targets are dropped.\" % n)\n",
    "\n",
    "X_train_val_org = train.drop(columns=\"SalePrice\")\n",
    "y_train_val = train[\"SalePrice\"]\n",
    "X_test_org = pd.read_csv(\"/kaggle/input/house-prices-advanced-regression-techniques/test.csv\",index_col=\"Id\")"
   ]
  },
  {
   "cell_type": "markdown",
   "id": "8c810b35",
   "metadata": {
    "papermill": {
     "duration": 0.00945,
     "end_time": "2022-04-25T12:55:33.271107",
     "exception": false,
     "start_time": "2022-04-25T12:55:33.261657",
     "status": "completed"
    },
    "tags": []
   },
   "source": [
    "### Exploring data for preprocessing:\n",
    "missing values, catagrical columns"
   ]
  },
  {
   "cell_type": "code",
   "execution_count": 3,
   "id": "ab62b075",
   "metadata": {
    "execution": {
     "iopub.execute_input": "2022-04-25T12:55:33.294300Z",
     "iopub.status.busy": "2022-04-25T12:55:33.293593Z",
     "iopub.status.idle": "2022-04-25T12:55:33.396209Z",
     "shell.execute_reply": "2022-04-25T12:55:33.396697Z",
     "shell.execute_reply.started": "2022-04-24T16:33:21.654103Z"
    },
    "papermill": {
     "duration": 0.115841,
     "end_time": "2022-04-25T12:55:33.396890",
     "exception": false,
     "start_time": "2022-04-25T12:55:33.281049",
     "status": "completed"
    },
    "tags": []
   },
   "outputs": [
    {
     "name": "stdout",
     "output_type": "stream",
     "text": [
      "Column PoolQC: >70% missing values, dropped\n"
     ]
    }
   ],
   "source": [
    "X_train_val = X_train_val_org.copy()\n",
    "X_test = X_test_org.copy()\n",
    "\n",
    "# change fake missing values\n",
    "#   alley\n",
    "X_train_val.replace({\"Alley\":{np.nan:\"wo\"}},inplace=True)\n",
    "X_test.replace({\"Alley\":{np.nan:\"wo\"}},inplace=True)\n",
    "#   basement\n",
    "bsmt_cols = [\"BsmtQual\",\"BsmtCond\",\"BsmtExposure\",\"BsmtFinType1\",\"BsmtFinType2\"]\n",
    "X_train_val.loc[X_train_val[\"TotalBsmtSF\"]==0,bsmt_cols] = \"wo\"\n",
    "X_test.loc[X_test[\"TotalBsmtSF\"]==0,bsmt_cols] = \"wo\"\n",
    "#   fireplace\n",
    "X_train_val.replace({\"FireplaceQu\":{np.nan:\"wo\"}},inplace=True)\n",
    "X_test.replace({\"FireplaceQu\":{np.nan:\"wo\"}},inplace=True)\n",
    "#   garage\n",
    "grg_cols=[\"GarageType\",\"GarageFinish\",\"GarageQual\",\"GarageCond\"]\n",
    "X_train_val.loc[X_train_val[\"GarageArea\"]==0,grg_cols] = \"wo\"\n",
    "X_test.loc[X_test[\"GarageArea\"]==0,grg_cols] = \"wo\"\n",
    "#   fence\n",
    "X_train_val.replace({\"Fence\":{np.nan:\"wo\"}},inplace=True)\n",
    "X_test.replace({\"Fence\":{np.nan:\"wo\"}},inplace=True)\n",
    "#   MiscFeature\n",
    "X_train_val.replace({\"MiscFeature\":{np.nan:\"wo\"}},inplace=True)\n",
    "X_test.replace({\"MiscFeature\":{np.nan:\"wo\"}},inplace=True)\n",
    "\n",
    "# drop columns with too little information\n",
    "n_row = np.shape(X_train_val)[0]\n",
    "for col in X_train_val.columns:\n",
    "    if np.sum(pd.isnull(X_train_val[col])) > n_row*0.7:\n",
    "        X_train_val.drop(col, axis=1, inplace=True)\n",
    "        X_test.drop(col, axis=1, inplace=True)\n",
    "        print(\"Column \"+col+\": >70% missing values, dropped\")\n",
    "        \n",
    "# change the non-ordinal numerical columns into string categories\n",
    "cols_num2str = [\"MSSubClass\",\"MoSold\"]\n",
    "X_train_val[cols_num2str] = X_train_val[cols_num2str].apply(str)\n",
    "X_test[cols_num2str] = X_test[cols_num2str].apply(str)\n",
    "\n",
    "# numerical columns, categorical columns\n",
    "cols_num = X_train_val.columns[X_train_val.dtypes!=\"object\"]\n",
    "cols_cat = X_train_val.columns[X_train_val.dtypes==\"object\"]\n",
    "\n",
    "# ordinal categorical columns\n",
    "cols_cat_ord = [\"ExterQual\",\"ExterCond\",\"BsmtQual\",\"BsmtCond\",\n",
    "                \"BsmtExposure\",\"BsmtFinType1\",\"BsmtFinType2\",\n",
    "                \"HeatingQC\",\"CentralAir\",\"KitchenQual\",\n",
    "                \"FireplaceQu\",\"GarageFinish\",\"GarageCond\",\"Fence\"]\n",
    "ords1 = [\"Po\",\"Fa\",\"TA\",\"Gd\",\"Ex\"]\n",
    "ords2 = [\"wo\",\"Po\",\"Fa\",\"TA\",\"Gd\",\"Ex\"]\n",
    "ords3 = [\"wo\",\"No\",\"Mn\",\"Av\",\"Gd\"]\n",
    "ords4 = [\"wo\",\"Unf\",\"LwQ\",\"Rec\",\"BLQ\",\"ALQ\",\"GLQ\"]\n",
    "ords5 = [\"wo\",\"Unf\",\"RFn\",\"Fin\"]\n",
    "ords6 = [\"wo\",\"MnWw\",\"GdWo\",\"MnPrv\",\"GdPrv\"]        \n",
    "ords = [ords1,ords1,ords2,ords2,\n",
    "        ords3,ords4,ords4,\n",
    "        ords1,[\"N\",\"Y\"],ords1,\n",
    "        ords2,ords5,ords2,ords6]\n",
    "\n",
    "# non-ordinal categorical columns\n",
    "cols_cat_oh = list(set(cols_cat)-set(cols_cat_ord))"
   ]
  },
  {
   "cell_type": "markdown",
   "id": "44937616",
   "metadata": {
    "papermill": {
     "duration": 0.009756,
     "end_time": "2022-04-25T12:55:33.417162",
     "exception": false,
     "start_time": "2022-04-25T12:55:33.407406",
     "status": "completed"
    },
    "tags": []
   },
   "source": [
    "### Model 1: RandomForestRegressor"
   ]
  },
  {
   "cell_type": "code",
   "execution_count": 4,
   "id": "25428a60",
   "metadata": {
    "execution": {
     "iopub.execute_input": "2022-04-25T12:55:33.441075Z",
     "iopub.status.busy": "2022-04-25T12:55:33.440312Z",
     "iopub.status.idle": "2022-04-25T12:56:55.426086Z",
     "shell.execute_reply": "2022-04-25T12:56:55.426870Z",
     "shell.execute_reply.started": "2022-04-24T16:33:21.767763Z"
    },
    "papermill": {
     "duration": 81.999818,
     "end_time": "2022-04-25T12:56:55.427141",
     "exception": false,
     "start_time": "2022-04-25T12:55:33.427323",
     "status": "completed"
    },
    "tags": []
   },
   "outputs": [
    {
     "name": "stdout",
     "output_type": "stream",
     "text": [
      "Best parameter for RandomForestRegressor: {'model_rf__n_estimators': 200}\n"
     ]
    }
   ],
   "source": [
    "from sklearn.model_selection import train_test_split, GridSearchCV\n",
    "from sklearn.pipeline import Pipeline\n",
    "from sklearn.impute import SimpleImputer\n",
    "from sklearn.preprocessing import StandardScaler, OrdinalEncoder, OneHotEncoder\n",
    "from sklearn.ensemble import RandomForestRegressor\n",
    "from sklearn.metrics import mean_squared_error as mse\n",
    "from sklearn.compose import ColumnTransformer\n",
    "\n",
    "# split X_train_val into a train set and a validation set\n",
    "X_train, X_val, y_train, y_val = train_test_split(X_train_val, y_train_val,\n",
    "                                                 test_size=0.3)\n",
    "\n",
    "# process columns with imputers\n",
    "num_transformer = Pipeline(steps=[\n",
    "    ('imputer', SimpleImputer(strategy='constant')),\n",
    "    ('scaler', StandardScaler())])\n",
    "cat_ord_transformer = Pipeline(steps=[\n",
    "    ('imputer', SimpleImputer(strategy='most_frequent')),\n",
    "    ('ord', OrdinalEncoder(categories=ords))])\n",
    "cat_oh_transformer = Pipeline(steps=[\n",
    "    ('imputer', SimpleImputer(strategy='most_frequent')),\n",
    "    ('onehot', OneHotEncoder(handle_unknown='ignore'))])\n",
    "preprocessor = ColumnTransformer(\n",
    "    transformers=[\n",
    "        ('num', num_transformer, cols_num),\n",
    "        ('cat_ord', cat_ord_transformer, cols_cat_ord),\n",
    "        ('cat_oh', cat_oh_transformer, cols_cat_oh)])\n",
    "\n",
    "# model 1: RandomForestRegressor\n",
    "rf = RandomForestRegressor()\n",
    "\n",
    "# building pipeline\n",
    "pipeline_rf = Pipeline(steps=[(\"preprocessor\", preprocessor),\n",
    "                           (\"model_rf\", rf)])\n",
    "\n",
    "# tuning parameters\n",
    "param_grid = {\"model_rf__n_estimators\": [100,200,500,1000]}\n",
    "grid_cv_rf = GridSearchCV(pipeline_rf, param_grid, cv=5, n_jobs=4)\n",
    "grid_cv_rf.fit(X_train, y_train)\n",
    "print(\"Best parameter for RandomForestRegressor:\", grid_cv_rf.best_params_)"
   ]
  },
  {
   "cell_type": "markdown",
   "id": "bcd2fbbb",
   "metadata": {
    "papermill": {
     "duration": 0.01007,
     "end_time": "2022-04-25T12:56:55.448711",
     "exception": false,
     "start_time": "2022-04-25T12:56:55.438641",
     "status": "completed"
    },
    "tags": []
   },
   "source": [
    "### Model 2: XGBoost"
   ]
  },
  {
   "cell_type": "code",
   "execution_count": 5,
   "id": "e877663c",
   "metadata": {
    "execution": {
     "iopub.execute_input": "2022-04-25T12:56:55.477657Z",
     "iopub.status.busy": "2022-04-25T12:56:55.476693Z",
     "iopub.status.idle": "2022-04-25T13:26:59.806488Z",
     "shell.execute_reply": "2022-04-25T13:26:59.807115Z",
     "shell.execute_reply.started": "2022-04-24T16:34:41.196199Z"
    },
    "papermill": {
     "duration": 1804.348167,
     "end_time": "2022-04-25T13:26:59.807337",
     "exception": false,
     "start_time": "2022-04-25T12:56:55.459170",
     "status": "completed"
    },
    "tags": []
   },
   "outputs": [
    {
     "name": "stdout",
     "output_type": "stream",
     "text": [
      "Best parameter for XGBoost: {'model_xgb__learning_rate': 0.1, 'model_xgb__n_estimators': 500}\n"
     ]
    }
   ],
   "source": [
    "from xgboost import XGBRegressor\n",
    "\n",
    "xgb = XGBRegressor()\n",
    "\n",
    "# building pipeline\n",
    "pipeline_xgb = Pipeline(steps=[(\"preprocessor\", preprocessor),\n",
    "                               (\"model_xgb\", xgb)])\n",
    "\n",
    "# tuning parameters\n",
    "param_grid = {\"model_xgb__n_estimators\": [100,200,500],\n",
    "             \"model_xgb__learning_rate\": [0.1, 0.5]}\n",
    "grid_cv_xgb = GridSearchCV(pipeline_xgb, param_grid, cv=5, n_jobs=4)\n",
    "grid_cv_xgb.fit(X_train, y_train)\n",
    "print(\"Best parameter for XGBoost:\", grid_cv_xgb.best_params_)"
   ]
  },
  {
   "cell_type": "markdown",
   "id": "fa0fa425",
   "metadata": {
    "papermill": {
     "duration": 0.010495,
     "end_time": "2022-04-25T13:26:59.828648",
     "exception": false,
     "start_time": "2022-04-25T13:26:59.818153",
     "status": "completed"
    },
    "tags": []
   },
   "source": [
    "### compare two models' performance with X_val, y_val"
   ]
  },
  {
   "cell_type": "code",
   "execution_count": 6,
   "id": "b7ddfc01",
   "metadata": {
    "execution": {
     "iopub.execute_input": "2022-04-25T13:26:59.862725Z",
     "iopub.status.busy": "2022-04-25T13:26:59.862035Z",
     "iopub.status.idle": "2022-04-25T13:26:59.951886Z",
     "shell.execute_reply": "2022-04-25T13:26:59.952472Z",
     "shell.execute_reply.started": "2022-04-24T17:05:31.661337Z"
    },
    "papermill": {
     "duration": 0.113301,
     "end_time": "2022-04-25T13:26:59.952729",
     "exception": false,
     "start_time": "2022-04-25T13:26:59.839428",
     "status": "completed"
    },
    "tags": []
   },
   "outputs": [
    {
     "name": "stdout",
     "output_type": "stream",
     "text": [
      "837993662.5320349 714364578.5593281\n",
      "The XGB regressor (mse=714364578.5593) performs better than the random forest model (mse=837993662.5320).\n"
     ]
    }
   ],
   "source": [
    "from sklearn.metrics import mean_squared_error as mse\n",
    "\n",
    "# prediction of model1\n",
    "y_pred1 = grid_cv_rf.predict(X_val)\n",
    "score1 = mse(y_val, y_pred1)\n",
    "\n",
    "# prediction of model2\n",
    "y_pred2 = grid_cv_xgb.predict(X_val)\n",
    "score2 = mse(y_val, y_pred2)\n",
    "\n",
    "# compare scores\n",
    "print(score1, score2)\n",
    "if score1<score2:\n",
    "    print(\"The random forest model (mse=%.4f) performs better than the XGB regressor (mse=%.4f).\" %(score1,score2))\n",
    "else:\n",
    "    print(\"The XGB regressor (mse=%.4f) performs better than the random forest model (mse=%.4f).\" %(score2,score1))"
   ]
  },
  {
   "cell_type": "code",
   "execution_count": 7,
   "id": "0a5f510c",
   "metadata": {
    "execution": {
     "iopub.execute_input": "2022-04-25T13:26:59.988541Z",
     "iopub.status.busy": "2022-04-25T13:26:59.984404Z",
     "iopub.status.idle": "2022-04-25T13:27:00.115053Z",
     "shell.execute_reply": "2022-04-25T13:27:00.114244Z",
     "shell.execute_reply.started": "2022-04-24T17:05:31.765662Z"
    },
    "papermill": {
     "duration": 0.149611,
     "end_time": "2022-04-25T13:27:00.115207",
     "exception": false,
     "start_time": "2022-04-25T13:26:59.965596",
     "status": "completed"
    },
    "tags": []
   },
   "outputs": [],
   "source": [
    "y_pred = grid_cv_rf.predict(X_test)\n",
    "otp_fn = \"/kaggle/working/submission.csv\"\n",
    "df = pd.DataFrame(y_pred,index=X_test.index,columns=[\"SalePrice\"])\n",
    "df.to_csv(otp_fn,header=[\"SalePrice\"])"
   ]
  }
 ],
 "metadata": {
  "kernelspec": {
   "display_name": "Python 3",
   "language": "python",
   "name": "python3"
  },
  "language_info": {
   "codemirror_mode": {
    "name": "ipython",
    "version": 3
   },
   "file_extension": ".py",
   "mimetype": "text/x-python",
   "name": "python",
   "nbconvert_exporter": "python",
   "pygments_lexer": "ipython3",
   "version": "3.7.10"
  },
  "papermill": {
   "default_parameters": {},
   "duration": 1897.534705,
   "end_time": "2022-04-25T13:27:01.040681",
   "environment_variables": {},
   "exception": null,
   "input_path": "__notebook__.ipynb",
   "output_path": "__notebook__.ipynb",
   "parameters": {},
   "start_time": "2022-04-25T12:55:23.505976",
   "version": "2.3.3"
  }
 },
 "nbformat": 4,
 "nbformat_minor": 5
}
